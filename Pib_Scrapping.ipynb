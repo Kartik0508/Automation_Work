{
 "cells": [
  {
   "cell_type": "code",
   "execution_count": null,
   "id": "JmuVMGX0bDhm",
   "metadata": {
    "colab": {
     "base_uri": "https://localhost:8080/"
    },
    "id": "JmuVMGX0bDhm",
    "outputId": "b56ddba6-d299-47d0-9002-cf162adc065b"
   },
   "outputs": [],
   "source": [
    "!pip install selenium\n",
    "!pip install beautifulsoup4\n",
    "!pip install pandas"
   ]
  },
  {
   "cell_type": "code",
   "execution_count": null,
   "id": "9801e203",
   "metadata": {
    "id": "9801e203"
   },
   "outputs": [],
   "source": [
    "import requests\n",
    "from bs4 import BeautifulSoup\n",
    "from datetime import datetime\n",
    "import re"
   ]
  },
  {
   "cell_type": "code",
   "execution_count": null,
   "id": "b45b76b1",
   "metadata": {
    "colab": {
     "base_uri": "https://localhost:8080/"
    },
    "id": "b45b76b1",
    "outputId": "895c19fa-ea43-4267-e020-fe36a9b58ef1"
   },
   "outputs": [],
   "source": [
    "url=\"https://pib.gov.in/indexd.aspx\"\n",
    "\n",
    "response=requests.get(url)\n",
    "response"
   ]
  },
  {
   "cell_type": "code",
   "execution_count": null,
   "id": "3bfbea6e",
   "metadata": {
    "colab": {
     "base_uri": "https://localhost:8080/"
    },
    "id": "3bfbea6e",
    "outputId": "dea1fb81-3c7a-4cbb-d2b8-30a950df4157"
   },
   "outputs": [],
   "source": [
    "soup=BeautifulSoup(response.text,'html')\n",
    "soup"
   ]
  },
  {
   "cell_type": "code",
   "execution_count": null,
   "id": "e56ba78a",
   "metadata": {
    "colab": {
     "base_uri": "https://localhost:8080/",
     "height": 187
    },
    "id": "e56ba78a",
    "outputId": "bb471c0b-5ed8-416e-ba2b-e6e46640153e"
   },
   "outputs": [],
   "source": [
    "soup.prettify"
   ]
  },
  {
   "cell_type": "code",
   "execution_count": null,
   "id": "e8b85143",
   "metadata": {
    "colab": {
     "base_uri": "https://localhost:8080/"
    },
    "id": "e8b85143",
    "outputId": "ea0f5f10-2cfa-4555-8252-1a21599bd18a"
   },
   "outputs": [],
   "source": [
    "press=soup.find_all('li',class_='has-sub')[1]\n",
    "print(press)"
   ]
  },
  {
   "cell_type": "code",
   "execution_count": null,
   "id": "7027aed3",
   "metadata": {
    "id": "7027aed3"
   },
   "outputs": [],
   "source": [
    "a=press.find_all(\"li\")[1]"
   ]
  },
  {
   "cell_type": "code",
   "execution_count": null,
   "id": "cca979a8",
   "metadata": {
    "colab": {
     "base_uri": "https://localhost:8080/"
    },
    "id": "cca979a8",
    "outputId": "3c9ceeda-68ee-4e3d-ef41-0aca1810b5da"
   },
   "outputs": [],
   "source": [
    "a"
   ]
  },
  {
   "cell_type": "code",
   "execution_count": null,
   "id": "8c6f1b93",
   "metadata": {
    "colab": {
     "base_uri": "https://localhost:8080/"
    },
    "id": "8c6f1b93",
    "outputId": "251e1329-1cc9-4389-a7cd-2b8aebe56b97"
   },
   "outputs": [],
   "source": [
    "for i in a.find_all('a', href=True):\n",
    "    print(i['href'])"
   ]
  },
  {
   "cell_type": "code",
   "execution_count": null,
   "id": "3874ae99",
   "metadata": {
    "id": "3874ae99"
   },
   "outputs": [],
   "source": [
    "url1=\"https://pib.gov.in\""
   ]
  },
  {
   "cell_type": "code",
   "execution_count": null,
   "id": "585ac436",
   "metadata": {
    "colab": {
     "base_uri": "https://localhost:8080/",
     "height": 617
    },
    "id": "585ac436",
    "outputId": "3e138fba-0bc6-4e6d-c5f7-c66110cc1b32"
   },
   "outputs": [],
   "source": [
    "response1 = requests.get(url1 + i[\"href\"].replace(\"pib.gov.in\", \"\"))\n",
    "response1"
   ]
  },
  {
   "cell_type": "code",
   "execution_count": null,
   "id": "c348aee2",
   "metadata": {
    "id": "c348aee2",
    "scrolled": true
   },
   "outputs": [],
   "source": [
    "soup1=BeautifulSoup(response1.text,'html')"
   ]
  },
  {
   "cell_type": "code",
   "execution_count": null,
   "id": "42b4e964",
   "metadata": {
    "id": "42b4e964",
    "scrolled": true
   },
   "outputs": [],
   "source": [
    "soup1.prettify()"
   ]
  },
  {
   "cell_type": "code",
   "execution_count": null,
   "id": "f2905f55",
   "metadata": {
    "id": "f2905f55"
   },
   "outputs": [],
   "source": [
    "soup1.get_text"
   ]
  },
  {
   "cell_type": "code",
   "execution_count": null,
   "id": "567d3dfb",
   "metadata": {
    "id": "567d3dfb"
   },
   "outputs": [],
   "source": [
    "table = soup1.select('select',{'id': 'ContentPlaceHolder1_ddlMinistry'})"
   ]
  },
  {
   "cell_type": "code",
   "execution_count": null,
   "id": "33fc4788",
   "metadata": {
    "id": "33fc4788"
   },
   "outputs": [],
   "source": [
    "ministry=[option.get_text(strip=True) for option in table[2].find_all('option')][1:]"
   ]
  },
  {
   "cell_type": "code",
   "execution_count": null,
   "id": "87ce9326",
   "metadata": {
    "id": "87ce9326"
   },
   "outputs": [],
   "source": [
    "date=[option.get_text(strip=True) for option in table[3].find_all('option')][1:]"
   ]
  },
  {
   "cell_type": "code",
   "execution_count": null,
   "id": "f1329c18",
   "metadata": {
    "id": "f1329c18"
   },
   "outputs": [],
   "source": [
    "month=[option for option in table[4].find_all('option')]\n",
    "month=[i.text for i in month][3:]"
   ]
  },
  {
   "cell_type": "code",
   "execution_count": null,
   "id": "a213de9b",
   "metadata": {
    "id": "a213de9b"
   },
   "outputs": [],
   "source": [
    "year=[option.get_text(strip=True) for option in table[5].find_all('option')][1]"
   ]
  },
  {
   "cell_type": "code",
   "execution_count": null,
   "id": "6e27a32b",
   "metadata": {
    "id": "6e27a32b"
   },
   "outputs": [],
   "source": [
    "import pandas as pd"
   ]
  },
  {
   "cell_type": "code",
   "execution_count": null,
   "id": "e924e9ca",
   "metadata": {
    "id": "e924e9ca"
   },
   "outputs": [],
   "source": [
    "df=pd.DataFrame(columns=[\"Data/Time\",\"Header\",\"Content\"])"
   ]
  },
  {
   "cell_type": "code",
   "execution_count": null,
   "id": "1bbda5ca",
   "metadata": {
    "id": "1bbda5ca"
   },
   "outputs": [],
   "source": [
    "df"
   ]
  },
  {
   "cell_type": "code",
   "execution_count": null,
   "id": "fdc5c0c3",
   "metadata": {
    "id": "fdc5c0c3"
   },
   "outputs": [],
   "source": [
    "from selenium import webdriver\n",
    "from selenium.webdriver.chrome.options import Options\n",
    "from selenium.webdriver.common.by import By\n",
    "from selenium.webdriver.support import expected_conditions as EC\n",
    "from selenium.webdriver.support.ui import Select\n",
    "import time\n",
    "from bs4 import BeautifulSoup\n",
    "\n",
    "def get_data(url):\n",
    "    chrome_options = Options()\n",
    "    chrome_options.add_argument('--headless')\n",
    "    chrome_options.add_argument('--disable-gpu')\n",
    "    chrome_options.add_argument('--window-size=1200x600')\n",
    "    driver = webdriver.Chrome(options=chrome_options)\n",
    "    driver.get(url)\n",
    "\n",
    "    driver.implicitly_wait(10)\n",
    "    page_source = driver.page_source\n",
    "\n",
    "    soup = BeautifulSoup(page_source, 'html.parser')\n",
    "\n",
    "    title_element = driver.find_element(By.XPATH, '//div[@class=\"text-center\"]')\n",
    "    date_element = driver.find_element(By.XPATH, '//div[@class=\"ReleaseDateSubHeaddateTime text-center pt20\"]')\n",
    "    content_elements = driver.find_elements(By.XPATH, '//p/span')\n",
    "\n",
    "    title = title_element.text.strip()\n",
    "    date = date_element.text.strip()\n",
    "    content = \"\"\n",
    "    for element in content_elements:\n",
    "        if element.text.strip()==\"*\":\n",
    "            break\n",
    "        else:\n",
    "            content+= element.text.strip()+\"\\n\"\n",
    "\n",
    "    # Print the result\n",
    "    result = [date,title,content]\n",
    "    return result\n",
    "\n",
    "    # Close the browser\n",
    "    driver.quit()\n",
    "\n",
    "def update_date():\n",
    "    chrome_options = Options()\n",
    "    chrome_options.add_argument('--headless')  # Run in headless mode\n",
    "    chrome_options.add_argument('--disable-gpu')  # Disable GPU acceleration (necessary in headless mode)\n",
    "    chrome_options.add_argument('--window-size=1200x600')\n",
    "\n",
    "    driver = webdriver.Chrome(options=chrome_options)\n",
    "    driver.get(\"https://pib.gov.in/allRel.aspx\")\n",
    "\n",
    "    # Select values in the dropdowns\n",
    "    # Replace 'option_value' with the value of the option you want to select\n",
    "\n",
    "    select_element = Select(driver.find_element(\"id\",\"ContentPlaceHolder1_ddlday\"))  # Replace 'dropdown_id' with the actual ID of the dropdown element\n",
    "    select_element.select_by_value(\"1\")  # Replace 'option_value' with the value of the option you want to select\n",
    "\n",
    "    select_element = Select(driver.find_element(\"id\",\"ContentPlaceHolder1_ddlMonth\"))\n",
    "    select_element.select_by_visible_text(\"April\")\n",
    "\n",
    "    select_element = Select(driver.find_element(\"id\",\"ContentPlaceHolder1_ddlYear\"))\n",
    "    select_element.select_by_value(\"2023\")\n",
    "\n",
    "\n",
    "    # Sleep to allow the website to update automatically (adjust this based on your website behavior)\n",
    "    time.sleep(3)\n",
    "\n",
    "    # Get and print the modified HTML after changes\n",
    "    modified_html = driver.page_source\n",
    "\n",
    "    # Close the webdriver\n",
    "    driver.quit()\n",
    "\n",
    "    return modified_html\n",
    "\n",
    "response2=update_date()\n",
    "soup2= BeautifulSoup(response2, 'html.parser')\n",
    "row= soup2.find_all(\"div\",class_=\"content-area\")\n",
    "href_links = []\n",
    "for links1 in row:\n",
    "    test=links1.select(\".num li\")\n",
    "    for j in test:\n",
    "        links =j.find_all('a', href=True)\n",
    "        href_links.extend([link['href'] for link in links])\n",
    "    for links2 in href_links:\n",
    "        updated_url=url1+links2\n",
    "        response3=requests.get(updated_url)\n",
    "        soup_=BeautifulSoup(response3.text,'html')\n",
    "        result1=get_data(updated_url)\n",
    "        df.loc[len(df)]=result1\n",
    "    df.drop_duplicates().reset_index(drop=True)"
   ]
  },
  {
   "cell_type": "code",
   "execution_count": null,
   "id": "3f447b33",
   "metadata": {
    "id": "3f447b33",
    "scrolled": false
   },
   "outputs": [],
   "source": [
    "df"
   ]
  },
  {
   "cell_type": "code",
   "execution_count": null,
   "id": "ae5dba90",
   "metadata": {
    "id": "ae5dba90"
   },
   "outputs": [],
   "source": [
    "excel_file_path ='pib_test.xlsx'\n",
    "df.to_excel(excel_file_path, index=False)"
   ]
  },
  {
   "cell_type": "code",
   "execution_count": null,
   "id": "c28a535b",
   "metadata": {
    "id": "c28a535b"
   },
   "outputs": [],
   "source": []
  }
 ],
 "metadata": {
  "colab": {
   "provenance": []
  },
  "kernelspec": {
   "display_name": "Python 3 (ipykernel)",
   "language": "python",
   "name": "python3"
  },
  "language_info": {
   "codemirror_mode": {
    "name": "ipython",
    "version": 3
   },
   "file_extension": ".py",
   "mimetype": "text/x-python",
   "name": "python",
   "nbconvert_exporter": "python",
   "pygments_lexer": "ipython3",
   "version": "3.10.4"
  }
 },
 "nbformat": 4,
 "nbformat_minor": 5
}
